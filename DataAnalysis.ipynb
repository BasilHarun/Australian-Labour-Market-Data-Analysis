{
 "cells": [
  {
   "cell_type": "markdown",
   "id": "236abca2-be40-447f-a83a-a73b3477a33a",
   "metadata": {},
   "source": [
    "# Description"
   ]
  },
  {
   "cell_type": "markdown",
   "id": "66a96917-db09-4b29-af01-e1c5aaa4f83e",
   "metadata": {},
   "source": [
    "The dataset for the jobs in tech sector has been collected from two sources: \n",
    "- $1$) Labor Market Information Portal (Jobs data till November 2021)\n",
    "- $2$) Kaggle (Data for 2018 Job Postings scrapped from  seek.com.au)\n",
    "\n",
    "To analyze the data, python and its different libraries such as pandas, numpy, Matplotlib, and Seaborn have been used. The following results gives Tech Council the idea about the Current Number Jobs in Tech Sector, the top job positions, and distributions with respect to Job Types as well. Also, the Regions with highest and lowest number of Tech Jobs have also been identified in this work."
   ]
  },
  {
   "cell_type": "code",
   "execution_count": 1,
   "id": "644cddf0-b901-48ee-a016-09b19bbfd180",
   "metadata": {},
   "outputs": [],
   "source": [
    "import pandas as pd\n",
    "import numpy as np\n",
    "from matplotlib import pyplot as plt\n",
    "import seaborn as sns"
   ]
  },
  {
   "cell_type": "code",
   "execution_count": 2,
   "id": "e3a07d1d-aba8-407b-aaff-d74ee2b12651",
   "metadata": {},
   "outputs": [],
   "source": [
    "df_summary=pd.read_excel(\"ER Employment by Industry - November 2021.xlsx\",sheet_name=\"SA4 based regions\")"
   ]
  },
  {
   "cell_type": "code",
   "execution_count": 3,
   "id": "3e4602cd-d8aa-4e70-8cc2-5d72d138ff6c",
   "metadata": {},
   "outputs": [],
   "source": [
    "df_summary=df_summary.loc[df_summary[\"Employment Region\"]!=\"Australia\"]"
   ]
  },
  {
   "cell_type": "code",
   "execution_count": 4,
   "id": "515d87e0-7078-410f-8748-74e04b6ad001",
   "metadata": {},
   "outputs": [
    {
     "data": {
      "text/html": [
       "<div>\n",
       "<style scoped>\n",
       "    .dataframe tbody tr th:only-of-type {\n",
       "        vertical-align: middle;\n",
       "    }\n",
       "\n",
       "    .dataframe tbody tr th {\n",
       "        vertical-align: top;\n",
       "    }\n",
       "\n",
       "    .dataframe thead th {\n",
       "        text-align: right;\n",
       "    }\n",
       "</style>\n",
       "<table border=\"1\" class=\"dataframe\">\n",
       "  <thead>\n",
       "    <tr style=\"text-align: right;\">\n",
       "      <th></th>\n",
       "      <th>Employment Region</th>\n",
       "      <th>State/Territory</th>\n",
       "      <th>Industry</th>\n",
       "      <th>Employment by Industry - Total</th>\n",
       "      <th>Employed Full-Time</th>\n",
       "      <th>Employed Part-Time</th>\n",
       "      <th>Employed - Male</th>\n",
       "      <th>Employed - Female</th>\n",
       "      <th>Five year growth by Industry</th>\n",
       "      <th>Employment Distribution (%)</th>\n",
       "    </tr>\n",
       "  </thead>\n",
       "  <tbody>\n",
       "    <tr>\n",
       "      <th>0</th>\n",
       "      <td>Capital Region</td>\n",
       "      <td>NSW/ACT</td>\n",
       "      <td>Agriculture, Forestry and Fishing</td>\n",
       "      <td>7200</td>\n",
       "      <td>3800</td>\n",
       "      <td>3400</td>\n",
       "      <td>3900</td>\n",
       "      <td>3300</td>\n",
       "      <td>1000</td>\n",
       "      <td>2.1</td>\n",
       "    </tr>\n",
       "    <tr>\n",
       "      <th>1</th>\n",
       "      <td>Capital Region</td>\n",
       "      <td>NSW/ACT</td>\n",
       "      <td>Mining</td>\n",
       "      <td>500</td>\n",
       "      <td>500</td>\n",
       "      <td>0</td>\n",
       "      <td>200</td>\n",
       "      <td>300</td>\n",
       "      <td>0</td>\n",
       "      <td>0.1</td>\n",
       "    </tr>\n",
       "  </tbody>\n",
       "</table>\n",
       "</div>"
      ],
      "text/plain": [
       "  Employment Region State/Territory                           Industry  \\\n",
       "0    Capital Region         NSW/ACT  Agriculture, Forestry and Fishing   \n",
       "1    Capital Region         NSW/ACT                             Mining   \n",
       "\n",
       "   Employment by Industry - Total  Employed Full-Time  Employed Part-Time  \\\n",
       "0                            7200                3800                3400   \n",
       "1                             500                 500                   0   \n",
       "\n",
       "   Employed - Male  Employed - Female  Five year growth by Industry  \\\n",
       "0             3900               3300                          1000   \n",
       "1              200                300                             0   \n",
       "\n",
       "   Employment Distribution (%)  \n",
       "0                          2.1  \n",
       "1                          0.1  "
      ]
     },
     "execution_count": 4,
     "metadata": {},
     "output_type": "execute_result"
    }
   ],
   "source": [
    "df_summary.head(2)"
   ]
  },
  {
   "cell_type": "code",
   "execution_count": 5,
   "id": "03587680-cd2c-451b-a506-af5bdddb3920",
   "metadata": {},
   "outputs": [
    {
     "name": "stdout",
     "output_type": "stream",
     "text": [
      " Different Industries : \n",
      "\n",
      " ['Agriculture, Forestry and Fishing' 'Mining' 'Manufacturing'\n",
      " 'Electricity, Gas, Water and Waste Services' 'Construction'\n",
      " 'Wholesale Trade' 'Retail Trade' 'Accommodation and Food Services'\n",
      " 'Transport, Postal and Warehousing'\n",
      " 'Information Media and Telecommunications'\n",
      " 'Financial and Insurance Services'\n",
      " 'Rental, Hiring and Real Estate Services'\n",
      " 'Professional, Scientific and Technical Services'\n",
      " 'Administrative and Support Services' 'Public Administration and Safety'\n",
      " 'Education and Training' 'Health Care and Social Assistance'\n",
      " 'Arts and Recreation Services' 'Other Services']\n"
     ]
    }
   ],
   "source": [
    "print(\" Different Industries : \\n\\n\" , df_summary[\"Industry\"].unique())"
   ]
  },
  {
   "cell_type": "code",
   "execution_count": 6,
   "id": "158f54fb-1ec2-4b8d-9866-c8ca2978671a",
   "metadata": {},
   "outputs": [],
   "source": [
    "data_sum=df_summary.loc[(df_summary[\"Industry\"]==\"Information Media and Telecommunications\") | (df_summary[\"Industry\"]==\"Professional, Scientific and Technical Services\")].sum()"
   ]
  },
  {
   "cell_type": "code",
   "execution_count": 7,
   "id": "be7e40fe-5073-4923-8daa-aee0ea99126f",
   "metadata": {},
   "outputs": [
    {
     "data": {
      "text/plain": [
       "Employment by Industry - Total    1390800\n",
       "Employed Full-Time                1093400\n",
       "Employed Part-Time                 297000\n",
       "Employed - Male                    773100\n",
       "Employed - Female                  617500\n",
       "Five year growth by Industry       182400\n",
       "Employment Distribution (%)         354.3\n",
       "dtype: object"
      ]
     },
     "execution_count": 7,
     "metadata": {},
     "output_type": "execute_result"
    }
   ],
   "source": [
    "data_sum[3:]"
   ]
  },
  {
   "cell_type": "code",
   "execution_count": 8,
   "id": "c38b4c82-4236-412a-bdac-21035e04457e",
   "metadata": {},
   "outputs": [
    {
     "data": {
      "image/png": "[encoded data removed]",
      "text/plain": [
       "<Figure size 432x288 with 1 Axes>"
      ]
     },
     "metadata": {
      "needs_background": "light"
     },
     "output_type": "display_data"
    }
   ],
   "source": [
    "plt.title(\"Employment in Tech Sector\")\n",
    "_=sns.barplot(x=data_sum[3:8].index,y=data_sum[3:8].values)\n",
    "_=plt.xticks(rotation=90)"
   ]
  },
  {
   "cell_type": "code",
   "execution_count": 9,
   "id": "f385f066-6814-4875-bd06-d111682c1f23",
   "metadata": {},
   "outputs": [
    {
     "data": {
      "image/png": "[encoded data removed]",
      "text/plain": [
       "<Figure size 432x288 with 1 Axes>"
      ]
     },
     "metadata": {},
     "output_type": "display_data"
    }
   ],
   "source": [
    "\n",
    "\n",
    "# Setting labels for items in Chart\n",
    "Type = data_sum[4:6].index\n",
    "# Setting size in Chart based on\n",
    "\n",
    "# colors\n",
    "colors = ['#FF0000', '#FFA500']\n",
    "# explosion\n",
    "explode = (0.05, 0.05)\n",
    " \n",
    "# Pie Chart\n",
    "plt.pie(data_sum[4:6], colors=colors, labels=Type,\n",
    "        autopct='%1.1f%%', pctdistance=0.85,\n",
    "        explode=explode)\n",
    " \n",
    "# draw circle\n",
    "centre_circle = plt.Circle((0, 0), 0.70, fc='white')\n",
    "fig = plt.gcf()\n",
    " \n",
    "# Adding Circle in Pie chart\n",
    "fig.gca().add_artist(centre_circle)\n",
    " \n",
    "# Adding Title of chart\n",
    "plt.title('Employement Type in Tech Industry')\n",
    " \n",
    "# Displaying Chart\n",
    "plt.show()\n"
   ]
  },
  {
   "cell_type": "code",
   "execution_count": 10,
   "id": "c120a7c1-0f3e-444d-bec2-91bbd0eb0f63",
   "metadata": {},
   "outputs": [
    {
     "data": {
      "image/png": "[encoded data removed]",
      "text/plain": [
       "<Figure size 432x288 with 1 Axes>"
      ]
     },
     "metadata": {},
     "output_type": "display_data"
    }
   ],
   "source": [
    "\n",
    "# Setting labels for items in Chart\n",
    "Employee = data_sum[6:8].index\n",
    "# Setting size in Chart based on\n",
    "\n",
    "# colors\n",
    "colors = ['#FF0000', '#FFA500']\n",
    "# explosion\n",
    "explode = (0.05, 0.05)\n",
    " \n",
    "# Pie Chart\n",
    "plt.pie(data_sum[6:8], colors=colors, labels=Employee,\n",
    "        autopct='%1.1f%%', pctdistance=0.85,\n",
    "        explode=explode)\n",
    " \n",
    "# draw circle\n",
    "centre_circle = plt.Circle((0, 0), 0.70, fc='white')\n",
    "fig = plt.gcf()\n",
    " \n",
    "# Adding Circle in Pie chart\n",
    "fig.gca().add_artist(centre_circle)\n",
    " \n",
    "# Adding Title of chart\n",
    "plt.title('Gender Ratio in Tech Industry')\n",
    " \n",
    "# Displaying Chart\n",
    "plt.show()\n"
   ]
  },
  {
   "cell_type": "code",
   "execution_count": 11,
   "id": "7f00b22c-dfb4-4026-8ced-546c91e31b05",
   "metadata": {},
   "outputs": [],
   "source": [
    "data_tech=df_summary.loc[(df_summary[\"Industry\"]==\"Information Media and Telecommunications\") | (df_summary[\"Industry\"]==\"Professional, Scientific and Technical Services\")]\n",
    "data_region=data_tech.groupby(\"Employment Region\")[\"Employment by Industry - Total\"].sum().reset_index()\n"
   ]
  },
  {
   "cell_type": "code",
   "execution_count": 12,
   "id": "bc21e678-3525-478e-8266-1f7aa0bac825",
   "metadata": {},
   "outputs": [
    {
     "data": {
      "image/png": "[encoded data removed]",
      "text/plain": [
       "<Figure size 1080x432 with 1 Axes>"
      ]
     },
     "metadata": {
      "needs_background": "light"
     },
     "output_type": "display_data"
    }
   ],
   "source": [
    "top_5_regions=data_region.loc[data_region[\"Employment by Industry - Total\"].isin(data_region[\"Employment by Industry - Total\"].nlargest(5))].sort_values(by=\"Employment by Industry - Total\",ascending=False)\n",
    "plt.figure(figsize=(15,6))\n",
    "plt.title(\"Top 5 Regions with respect to number of Tech Jobs\")\n",
    "_=sns.barplot(x=\"Employment Region\",y=\"Employment by Industry - Total\",data=top_5_regions)"
   ]
  },
  {
   "cell_type": "code",
   "execution_count": 13,
   "id": "960b6638-76f0-4f0a-a802-7a8c333e0e2a",
   "metadata": {},
   "outputs": [
    {
     "data": {
      "image/png": "[encoded data removed]",
      "text/plain": [
       "<Figure size 1080x432 with 1 Axes>"
      ]
     },
     "metadata": {
      "needs_background": "light"
     },
     "output_type": "display_data"
    }
   ],
   "source": [
    "bottom_5_regions=data_region.loc[data_region[\"Employment by Industry - Total\"].isin(data_region[\"Employment by Industry - Total\"].nsmallest(5))].sort_values(by=\"Employment by Industry - Total\")\n",
    "plt.figure(figsize=(15,6))\n",
    "plt.title(\"Bottom 5 Regions with respect to number of Tech Jobs\")\n",
    "_=sns.barplot(x=\"Employment Region\",y=\"Employment by Industry - Total\",data=bottom_5_regions)"
   ]
  },
  {
   "cell_type": "markdown",
   "id": "dac57487-ddb1-45aa-8b76-2dc3b5f5480a",
   "metadata": {},
   "source": [
    "# Time Series Data for Industries"
   ]
  },
  {
   "cell_type": "code",
   "execution_count": 14,
   "id": "62ea1b1f-720c-4449-ad2f-28ef44c3a94f",
   "metadata": {},
   "outputs": [],
   "source": [
    "df_time=pd.read_excel(\"ER Employment by Industry Time Series - November 2021.xlsx\",sheet_name=\"SA4 based regions\")"
   ]
  },
  {
   "cell_type": "code",
   "execution_count": 15,
   "id": "61e0b997-3209-4a6f-af16-9f5f253715a5",
   "metadata": {},
   "outputs": [],
   "source": [
    "df_time=df_time.loc[df_time[\"Employment Region\"]!=\"Australia\"]"
   ]
  },
  {
   "cell_type": "code",
   "execution_count": 16,
   "id": "4d0ae3dc-1e1e-4b21-9c98-6c95993b6b7d",
   "metadata": {},
   "outputs": [
    {
     "data": {
      "text/html": [
       "<div>\n",
       "<style scoped>\n",
       "    .dataframe tbody tr th:only-of-type {\n",
       "        vertical-align: middle;\n",
       "    }\n",
       "\n",
       "    .dataframe tbody tr th {\n",
       "        vertical-align: top;\n",
       "    }\n",
       "\n",
       "    .dataframe thead th {\n",
       "        text-align: right;\n",
       "    }\n",
       "</style>\n",
       "<table border=\"1\" class=\"dataframe\">\n",
       "  <thead>\n",
       "    <tr style=\"text-align: right;\">\n",
       "      <th></th>\n",
       "      <th>Employment Region</th>\n",
       "      <th>State/Territory</th>\n",
       "      <th>Industry</th>\n",
       "      <th>2021-11-01 00:00:00</th>\n",
       "      <th>2020-11-01 00:00:00</th>\n",
       "      <th>2016-11-01 00:00:00</th>\n",
       "    </tr>\n",
       "  </thead>\n",
       "  <tbody>\n",
       "    <tr>\n",
       "      <th>0</th>\n",
       "      <td>Capital Region</td>\n",
       "      <td>NSW/ACT</td>\n",
       "      <td>Agriculture, Forestry and Fishing</td>\n",
       "      <td>7200</td>\n",
       "      <td>3300</td>\n",
       "      <td>6200</td>\n",
       "    </tr>\n",
       "    <tr>\n",
       "      <th>1</th>\n",
       "      <td>Capital Region</td>\n",
       "      <td>NSW/ACT</td>\n",
       "      <td>Mining</td>\n",
       "      <td>500</td>\n",
       "      <td>800</td>\n",
       "      <td>500</td>\n",
       "    </tr>\n",
       "  </tbody>\n",
       "</table>\n",
       "</div>"
      ],
      "text/plain": [
       "  Employment Region State/Territory                           Industry  \\\n",
       "0    Capital Region         NSW/ACT  Agriculture, Forestry and Fishing   \n",
       "1    Capital Region         NSW/ACT                             Mining   \n",
       "\n",
       "   2021-11-01 00:00:00  2020-11-01 00:00:00  2016-11-01 00:00:00  \n",
       "0                 7200                 3300                 6200  \n",
       "1                  500                  800                  500  "
      ]
     },
     "execution_count": 16,
     "metadata": {},
     "output_type": "execute_result"
    }
   ],
   "source": [
    "df_time.head(2)"
   ]
  },
  {
   "cell_type": "code",
   "execution_count": 17,
   "id": "61828190-c6eb-4e3b-9703-e097800adb87",
   "metadata": {},
   "outputs": [],
   "source": [
    "df_time.rename(columns={df_time.columns[3]: 'November - 2021',df_time.columns[4]: 'November - 2020', df_time.columns[5]: 'November - 2016'},inplace=True)"
   ]
  },
  {
   "cell_type": "code",
   "execution_count": 18,
   "id": "a8ca1cbf-b54a-4984-981d-09c136640cb3",
   "metadata": {},
   "outputs": [
    {
     "data": {
      "text/plain": [
       "Employment Region    Capital RegionCapital RegionCentral WestCentra...\n",
       "State/Territory      NSW/ACTNSW/ACTNSWNSWNSWNSWNSWNSWNSWNSWNSWNSWNS...\n",
       "Industry             Information Media and TelecommunicationsProfes...\n",
       "November - 2021                                                1390800\n",
       "November - 2020                                                1321200\n",
       "November - 2016                                                1208400\n",
       "dtype: object"
      ]
     },
     "execution_count": 18,
     "metadata": {},
     "output_type": "execute_result"
    }
   ],
   "source": [
    "data_sum_time=df_time.loc[(df_time[\"Industry\"]==\"Information Media and Telecommunications\") | (df_time[\"Industry\"]==\"Professional, Scientific and Technical Services\")].sum()\n",
    "data_sum_time"
   ]
  },
  {
   "cell_type": "code",
   "execution_count": 19,
   "id": "8c7bd40c-8703-497f-9088-110b623f8fea",
   "metadata": {},
   "outputs": [],
   "source": [
    "data_sum_time=data_sum_time[3:].sort_index()"
   ]
  },
  {
   "cell_type": "code",
   "execution_count": 20,
   "id": "95465cf6-af35-407a-ac28-fa835f008a10",
   "metadata": {},
   "outputs": [],
   "source": [
    "projection=data_sum[-2:-1].rename({\"Five year growth by Industry\":\"November - 2025\"})+data_sum_time[-1]\n",
    "projection=projection.append(data_sum_time[-1:])"
   ]
  },
  {
   "cell_type": "code",
   "execution_count": 21,
   "id": "f3288eef-fc69-4fa9-9fd1-c5d62bed077e",
   "metadata": {},
   "outputs": [
    {
     "data": {
      "image/png": "[encoded data removed]",
      "text/plain": [
       "<Figure size 1080x432 with 1 Axes>"
      ]
     },
     "metadata": {
      "needs_background": "light"
     },
     "output_type": "display_data"
    }
   ],
   "source": [
    "plt.figure(figsize = (15, 6))\n",
    "plt.title(\"Employment From 2016-2025\")\n",
    "sns.lineplot(x=data_sum_time.index,y=data_sum_time,marker=\"o\", label = 'Actual')\n",
    "sns.lineplot(x=projection.index,y=projection, linestyle=\"dashed\" ,marker=\"v\",color = 'red',label = 'Predicted')\n",
    "_=plt.legend()"
   ]
  },
  {
   "cell_type": "markdown",
   "id": "d439bf7a-2a98-4282-9dd5-35f40c978d7a",
   "metadata": {},
   "source": [
    "# Job Postings"
   ]
  },
  {
   "cell_type": "code",
   "execution_count": 22,
   "id": "a8e5120a-a031-4a39-924b-16a10fb8095f",
   "metadata": {},
   "outputs": [],
   "source": [
    "df_jobs=pd.read_csv(\"seek_australia_sample.csv\",encoding='cp1252')"
   ]
  },
  {
   "cell_type": "code",
   "execution_count": 23,
   "id": "b915737d-ac7f-4ff4-a852-728b92414b8a",
   "metadata": {},
   "outputs": [
    {
     "name": "stdout",
     "output_type": "stream",
     "text": [
      "20030  Different Job Postings \n"
     ]
    }
   ],
   "source": [
    "print(df_jobs.shape[0], \" Different Job Postings \")"
   ]
  },
  {
   "cell_type": "code",
   "execution_count": 24,
   "id": "a833b3ea-a174-4f3a-b789-5d12f549f316",
   "metadata": {},
   "outputs": [
    {
     "data": {
      "text/plain": [
       "array(['Mining, Resources & Energy', 'Retail & Consumer Products',\n",
       "       'Manufacturing, Transport & Logistics',\n",
       "       'Administration & Office Support', 'Construction',\n",
       "       'Banking & Financial Services', 'Healthcare & Medical',\n",
       "       'Trades & Services', 'Human Resources & Recruitment',\n",
       "       'Information & Communication Technology', 'Hospitality & Tourism',\n",
       "       'Sales', 'Government & Defence', 'Insurance & Superannuation',\n",
       "       'Community Services & Development', 'Engineering',\n",
       "       'Education & Training', 'Accounting', 'Marketing & Communications',\n",
       "       'Science & Technology', 'Legal', 'Call Centre & Customer Service',\n",
       "       'Farming, Animals & Conservation', 'Consulting & Strategy',\n",
       "       'Real Estate & Property', 'Sport & Recreation',\n",
       "       'Design & Architecture', 'Advertising, Arts & Media',\n",
       "       'CEO & General Management', 'Self Employment'], dtype=object)"
      ]
     },
     "execution_count": 24,
     "metadata": {},
     "output_type": "execute_result"
    }
   ],
   "source": [
    "df_jobs[\"category\"].unique()"
   ]
  },
  {
   "cell_type": "code",
   "execution_count": 25,
   "id": "4f909d6c-588b-44a2-9087-736526988b6a",
   "metadata": {},
   "outputs": [],
   "source": [
    "tech_jobs=df_jobs.loc[(df_jobs[\"category\"]==\"Information & Communication Technology\") | (df_jobs[\"category\"]==\"Science & Technology\")]"
   ]
  },
  {
   "cell_type": "code",
   "execution_count": 26,
   "id": "4a165490-0f43-4138-891b-b88e5aca732f",
   "metadata": {},
   "outputs": [
    {
     "name": "stdout",
     "output_type": "stream",
     "text": [
      "Number of Tech Jobs Postings in 2018:  2019\n"
     ]
    }
   ],
   "source": [
    "print(\"Number of Tech Jobs Postings in 2018: \", tech_jobs.shape[0])"
   ]
  },
  {
   "cell_type": "code",
   "execution_count": 27,
   "id": "2a763dfb-ea9d-43cb-b4f3-be73166e7a36",
   "metadata": {},
   "outputs": [
    {
     "name": "stdout",
     "output_type": "stream",
     "text": [
      "Percentage of Tech jobs are  10.08\n"
     ]
    }
   ],
   "source": [
    "percentage=round((tech_jobs.shape[0]/df_jobs.shape[0])*100,2)\n",
    "print(\"Percentage of Tech jobs are \", percentage)"
   ]
  },
  {
   "cell_type": "markdown",
   "id": "15a73f13-221e-4bc1-99c0-13ec9dfd1222",
   "metadata": {},
   "source": [
    "### Let's Check for the top Jobs per posting"
   ]
  },
  {
   "cell_type": "code",
   "execution_count": 28,
   "id": "e7f15fe8-6ddd-4f05-b5f0-cc0c692d0330",
   "metadata": {},
   "outputs": [
    {
     "data": {
      "image/png": "[encoded data removed]",
      "text/plain": [
       "<Figure size 432x288 with 1 Axes>"
      ]
     },
     "metadata": {
      "needs_background": "light"
     },
     "output_type": "display_data"
    }
   ],
   "source": [
    "top5=tech_jobs[\"job_title\"].value_counts().nlargest(5)\n",
    "sns.barplot(x=top5.index,y=top5)\n",
    "_=plt.xticks(rotation=90)\n",
    "_=plt.ylabel(\"Job Title\")"
   ]
  },
  {
   "cell_type": "markdown",
   "id": "df52b0c9-540a-4a0a-8550-3c060b967be9",
   "metadata": {},
   "source": [
    "As it can be seen, the Analyst and Manager type roles have top job postings. Therefore, Tech Council can focus on equipping people with these skills as it is a growing market."
   ]
  },
  {
   "cell_type": "code",
   "execution_count": 29,
   "id": "9964afe8-25cc-4b99-9adf-394dd1552fe1",
   "metadata": {},
   "outputs": [],
   "source": [
    "job_types=tech_jobs[\"job_type\"].value_counts()\n"
   ]
  },
  {
   "cell_type": "code",
   "execution_count": 30,
   "id": "f29a40a8-2b88-428f-9479-3833f354e9dc",
   "metadata": {},
   "outputs": [
    {
     "data": {
      "image/png": "[encoded data removed]",
      "text/plain": [
       "<Figure size 432x288 with 1 Axes>"
      ]
     },
     "metadata": {},
     "output_type": "display_data"
    }
   ],
   "source": [
    "\n",
    "# Setting labels for items in Chart\n",
    "Employee = job_types.index\n",
    "# Setting size in Chart based on\n",
    "\n",
    "# colors\n",
    "colors = ['#FF0000', '#FFA500', '#ADFF2F', '#0000FF']\n",
    "# explosion\n",
    "explode = (0.05, 0.05,0.05, 1)\n",
    " \n",
    "# Pie Chart\n",
    "plt.pie(job_types, colors=colors, labels=Employee,\n",
    "        autopct='%1.1f%%', pctdistance=0.85,\n",
    "        explode=explode)\n",
    " \n",
    "# draw circle\n",
    "centre_circle = plt.Circle((0, 0), 0.70, fc='white')\n",
    "fig = plt.gcf()\n",
    " \n",
    "# Adding Circle in Pie chart\n",
    "fig.gca().add_artist(centre_circle)\n",
    " \n",
    "# Adding Title of chart\n",
    "plt.title('Employement Type in Tech Industry')\n",
    " \n",
    "# Displaying Chart\n",
    "plt.show()\n"
   ]
  },
  {
   "cell_type": "markdown",
   "id": "366b8caa-77d0-4447-97fc-8b97c24e0518",
   "metadata": {},
   "source": [
    "# THE END!"
   ]
  },
  {
   "cell_type": "code",
   "execution_count": null,
   "id": "97a16d7e-0914-444f-9986-a4b08e4abcdd",
   "metadata": {},
   "outputs": [],
   "source": []
  }
 ],
 "metadata": {
  "kernelspec": {
   "display_name": "Python 3",
   "language": "python",
   "name": "python3"
  },
  "language_info": {
   "codemirror_mode": {
    "name": "ipython",
    "version": 3
   },
   "file_extension": ".py",
   "mimetype": "text/x-python",
   "name": "python",
   "nbconvert_exporter": "python",
   "pygments_lexer": "ipython3",
   "version": "3.8.8"
  }
 },
 "nbformat": 4,
 "nbformat_minor": 5
}
